{
  "cells": [
    {
      "cell_type": "code",
      "execution_count": null,
      "id": "8854da68",
      "metadata": {
        "id": "8854da68"
      },
      "outputs": [],
      "source": [
        "import pandas as pd\n",
        "import numpy as np\n",
        "import matplotlib.pyplot as plt\n",
        "import seaborn as sns"
      ]
    },
    {
      "cell_type": "code",
      "execution_count": null,
      "id": "8c6f4509",
      "metadata": {
        "id": "8c6f4509"
      },
      "outputs": [],
      "source": [
        "data=pd.read_csv(\"Covid Data.csv\")"
      ]
    },
    {
      "cell_type": "code",
      "execution_count": null,
      "id": "a7dac160",
      "metadata": {
        "colab": {
          "base_uri": "https://localhost:8080/",
          "height": 299
        },
        "id": "a7dac160",
        "outputId": "96e84038-52c1-4761-e8ff-3af5cd9cf6f0"
      },
      "outputs": [
        {
          "output_type": "execute_result",
          "data": {
            "text/plain": [
              "   USMER  MEDICAL_UNIT  SEX  PATIENT_TYPE   DATE_DIED  INTUBED  PNEUMONIA  \\\n",
              "0      2             1    1             1  03/05/2020       97          1   \n",
              "1      2             1    2             1  03/06/2020       97          1   \n",
              "2      2             1    2             2  09/06/2020        1          2   \n",
              "3      2             1    1             1  12/06/2020       97          2   \n",
              "4      2             1    2             1  21/06/2020       97          2   \n",
              "\n",
              "   AGE  PREGNANT  DIABETES  ...  ASTHMA  INMSUPR  HIPERTENSION  OTHER_DISEASE  \\\n",
              "0   65         2         2  ...       2        2             1              2   \n",
              "1   72        97         2  ...       2        2             1              2   \n",
              "2   55        97         1  ...       2        2             2              2   \n",
              "3   53         2         2  ...       2        2             2              2   \n",
              "4   68        97         1  ...       2        2             1              2   \n",
              "\n",
              "   CARDIOVASCULAR  OBESITY  RENAL_CHRONIC  TOBACCO  CLASIFFICATION_FINAL  ICU  \n",
              "0               2        2              2        2                     3   97  \n",
              "1               2        1              1        2                     5   97  \n",
              "2               2        2              2        2                     3    2  \n",
              "3               2        2              2        2                     7   97  \n",
              "4               2        2              2        2                     3   97  \n",
              "\n",
              "[5 rows x 21 columns]"
            ],
            "text/html": [
              "\n",
              "  <div id=\"df-bea0d886-e1df-4281-959a-ab61db8d01cc\">\n",
              "    <div class=\"colab-df-container\">\n",
              "      <div>\n",
              "<style scoped>\n",
              "    .dataframe tbody tr th:only-of-type {\n",
              "        vertical-align: middle;\n",
              "    }\n",
              "\n",
              "    .dataframe tbody tr th {\n",
              "        vertical-align: top;\n",
              "    }\n",
              "\n",
              "    .dataframe thead th {\n",
              "        text-align: right;\n",
              "    }\n",
              "</style>\n",
              "<table border=\"1\" class=\"dataframe\">\n",
              "  <thead>\n",
              "    <tr style=\"text-align: right;\">\n",
              "      <th></th>\n",
              "      <th>USMER</th>\n",
              "      <th>MEDICAL_UNIT</th>\n",
              "      <th>SEX</th>\n",
              "      <th>PATIENT_TYPE</th>\n",
              "      <th>DATE_DIED</th>\n",
              "      <th>INTUBED</th>\n",
              "      <th>PNEUMONIA</th>\n",
              "      <th>AGE</th>\n",
              "      <th>PREGNANT</th>\n",
              "      <th>DIABETES</th>\n",
              "      <th>...</th>\n",
              "      <th>ASTHMA</th>\n",
              "      <th>INMSUPR</th>\n",
              "      <th>HIPERTENSION</th>\n",
              "      <th>OTHER_DISEASE</th>\n",
              "      <th>CARDIOVASCULAR</th>\n",
              "      <th>OBESITY</th>\n",
              "      <th>RENAL_CHRONIC</th>\n",
              "      <th>TOBACCO</th>\n",
              "      <th>CLASIFFICATION_FINAL</th>\n",
              "      <th>ICU</th>\n",
              "    </tr>\n",
              "  </thead>\n",
              "  <tbody>\n",
              "    <tr>\n",
              "      <th>0</th>\n",
              "      <td>2</td>\n",
              "      <td>1</td>\n",
              "      <td>1</td>\n",
              "      <td>1</td>\n",
              "      <td>03/05/2020</td>\n",
              "      <td>97</td>\n",
              "      <td>1</td>\n",
              "      <td>65</td>\n",
              "      <td>2</td>\n",
              "      <td>2</td>\n",
              "      <td>...</td>\n",
              "      <td>2</td>\n",
              "      <td>2</td>\n",
              "      <td>1</td>\n",
              "      <td>2</td>\n",
              "      <td>2</td>\n",
              "      <td>2</td>\n",
              "      <td>2</td>\n",
              "      <td>2</td>\n",
              "      <td>3</td>\n",
              "      <td>97</td>\n",
              "    </tr>\n",
              "    <tr>\n",
              "      <th>1</th>\n",
              "      <td>2</td>\n",
              "      <td>1</td>\n",
              "      <td>2</td>\n",
              "      <td>1</td>\n",
              "      <td>03/06/2020</td>\n",
              "      <td>97</td>\n",
              "      <td>1</td>\n",
              "      <td>72</td>\n",
              "      <td>97</td>\n",
              "      <td>2</td>\n",
              "      <td>...</td>\n",
              "      <td>2</td>\n",
              "      <td>2</td>\n",
              "      <td>1</td>\n",
              "      <td>2</td>\n",
              "      <td>2</td>\n",
              "      <td>1</td>\n",
              "      <td>1</td>\n",
              "      <td>2</td>\n",
              "      <td>5</td>\n",
              "      <td>97</td>\n",
              "    </tr>\n",
              "    <tr>\n",
              "      <th>2</th>\n",
              "      <td>2</td>\n",
              "      <td>1</td>\n",
              "      <td>2</td>\n",
              "      <td>2</td>\n",
              "      <td>09/06/2020</td>\n",
              "      <td>1</td>\n",
              "      <td>2</td>\n",
              "      <td>55</td>\n",
              "      <td>97</td>\n",
              "      <td>1</td>\n",
              "      <td>...</td>\n",
              "      <td>2</td>\n",
              "      <td>2</td>\n",
              "      <td>2</td>\n",
              "      <td>2</td>\n",
              "      <td>2</td>\n",
              "      <td>2</td>\n",
              "      <td>2</td>\n",
              "      <td>2</td>\n",
              "      <td>3</td>\n",
              "      <td>2</td>\n",
              "    </tr>\n",
              "    <tr>\n",
              "      <th>3</th>\n",
              "      <td>2</td>\n",
              "      <td>1</td>\n",
              "      <td>1</td>\n",
              "      <td>1</td>\n",
              "      <td>12/06/2020</td>\n",
              "      <td>97</td>\n",
              "      <td>2</td>\n",
              "      <td>53</td>\n",
              "      <td>2</td>\n",
              "      <td>2</td>\n",
              "      <td>...</td>\n",
              "      <td>2</td>\n",
              "      <td>2</td>\n",
              "      <td>2</td>\n",
              "      <td>2</td>\n",
              "      <td>2</td>\n",
              "      <td>2</td>\n",
              "      <td>2</td>\n",
              "      <td>2</td>\n",
              "      <td>7</td>\n",
              "      <td>97</td>\n",
              "    </tr>\n",
              "    <tr>\n",
              "      <th>4</th>\n",
              "      <td>2</td>\n",
              "      <td>1</td>\n",
              "      <td>2</td>\n",
              "      <td>1</td>\n",
              "      <td>21/06/2020</td>\n",
              "      <td>97</td>\n",
              "      <td>2</td>\n",
              "      <td>68</td>\n",
              "      <td>97</td>\n",
              "      <td>1</td>\n",
              "      <td>...</td>\n",
              "      <td>2</td>\n",
              "      <td>2</td>\n",
              "      <td>1</td>\n",
              "      <td>2</td>\n",
              "      <td>2</td>\n",
              "      <td>2</td>\n",
              "      <td>2</td>\n",
              "      <td>2</td>\n",
              "      <td>3</td>\n",
              "      <td>97</td>\n",
              "    </tr>\n",
              "  </tbody>\n",
              "</table>\n",
              "<p>5 rows × 21 columns</p>\n",
              "</div>\n",
              "      <button class=\"colab-df-convert\" onclick=\"convertToInteractive('df-bea0d886-e1df-4281-959a-ab61db8d01cc')\"\n",
              "              title=\"Convert this dataframe to an interactive table.\"\n",
              "              style=\"display:none;\">\n",
              "        \n",
              "  <svg xmlns=\"http://www.w3.org/2000/svg\" height=\"24px\"viewBox=\"0 0 24 24\"\n",
              "       width=\"24px\">\n",
              "    <path d=\"M0 0h24v24H0V0z\" fill=\"none\"/>\n",
              "    <path d=\"M18.56 5.44l.94 2.06.94-2.06 2.06-.94-2.06-.94-.94-2.06-.94 2.06-2.06.94zm-11 1L8.5 8.5l.94-2.06 2.06-.94-2.06-.94L8.5 2.5l-.94 2.06-2.06.94zm10 10l.94 2.06.94-2.06 2.06-.94-2.06-.94-.94-2.06-.94 2.06-2.06.94z\"/><path d=\"M17.41 7.96l-1.37-1.37c-.4-.4-.92-.59-1.43-.59-.52 0-1.04.2-1.43.59L10.3 9.45l-7.72 7.72c-.78.78-.78 2.05 0 2.83L4 21.41c.39.39.9.59 1.41.59.51 0 1.02-.2 1.41-.59l7.78-7.78 2.81-2.81c.8-.78.8-2.07 0-2.86zM5.41 20L4 18.59l7.72-7.72 1.47 1.35L5.41 20z\"/>\n",
              "  </svg>\n",
              "      </button>\n",
              "      \n",
              "  <style>\n",
              "    .colab-df-container {\n",
              "      display:flex;\n",
              "      flex-wrap:wrap;\n",
              "      gap: 12px;\n",
              "    }\n",
              "\n",
              "    .colab-df-convert {\n",
              "      background-color: #E8F0FE;\n",
              "      border: none;\n",
              "      border-radius: 50%;\n",
              "      cursor: pointer;\n",
              "      display: none;\n",
              "      fill: #1967D2;\n",
              "      height: 32px;\n",
              "      padding: 0 0 0 0;\n",
              "      width: 32px;\n",
              "    }\n",
              "\n",
              "    .colab-df-convert:hover {\n",
              "      background-color: #E2EBFA;\n",
              "      box-shadow: 0px 1px 2px rgba(60, 64, 67, 0.3), 0px 1px 3px 1px rgba(60, 64, 67, 0.15);\n",
              "      fill: #174EA6;\n",
              "    }\n",
              "\n",
              "    [theme=dark] .colab-df-convert {\n",
              "      background-color: #3B4455;\n",
              "      fill: #D2E3FC;\n",
              "    }\n",
              "\n",
              "    [theme=dark] .colab-df-convert:hover {\n",
              "      background-color: #434B5C;\n",
              "      box-shadow: 0px 1px 3px 1px rgba(0, 0, 0, 0.15);\n",
              "      filter: drop-shadow(0px 1px 2px rgba(0, 0, 0, 0.3));\n",
              "      fill: #FFFFFF;\n",
              "    }\n",
              "  </style>\n",
              "\n",
              "      <script>\n",
              "        const buttonEl =\n",
              "          document.querySelector('#df-bea0d886-e1df-4281-959a-ab61db8d01cc button.colab-df-convert');\n",
              "        buttonEl.style.display =\n",
              "          google.colab.kernel.accessAllowed ? 'block' : 'none';\n",
              "\n",
              "        async function convertToInteractive(key) {\n",
              "          const element = document.querySelector('#df-bea0d886-e1df-4281-959a-ab61db8d01cc');\n",
              "          const dataTable =\n",
              "            await google.colab.kernel.invokeFunction('convertToInteractive',\n",
              "                                                     [key], {});\n",
              "          if (!dataTable) return;\n",
              "\n",
              "          const docLinkHtml = 'Like what you see? Visit the ' +\n",
              "            '<a target=\"_blank\" href=https://colab.research.google.com/notebooks/data_table.ipynb>data table notebook</a>'\n",
              "            + ' to learn more about interactive tables.';\n",
              "          element.innerHTML = '';\n",
              "          dataTable['output_type'] = 'display_data';\n",
              "          await google.colab.output.renderOutput(dataTable, element);\n",
              "          const docLink = document.createElement('div');\n",
              "          docLink.innerHTML = docLinkHtml;\n",
              "          element.appendChild(docLink);\n",
              "        }\n",
              "      </script>\n",
              "    </div>\n",
              "  </div>\n",
              "  "
            ]
          },
          "metadata": {},
          "execution_count": 3
        }
      ],
      "source": [
        "data.head()"
      ]
    },
    {
      "cell_type": "code",
      "execution_count": null,
      "id": "b5fa6e9a",
      "metadata": {
        "colab": {
          "base_uri": "https://localhost:8080/"
        },
        "id": "b5fa6e9a",
        "outputId": "4d8c406e-f3e3-4f2b-ffec-1564ea0cefc0"
      },
      "outputs": [
        {
          "output_type": "execute_result",
          "data": {
            "text/plain": [
              "(1048575, 21)"
            ]
          },
          "metadata": {},
          "execution_count": 4
        }
      ],
      "source": [
        "data.shape"
      ]
    },
    {
      "cell_type": "code",
      "execution_count": null,
      "id": "721c6abc",
      "metadata": {
        "colab": {
          "base_uri": "https://localhost:8080/"
        },
        "id": "721c6abc",
        "outputId": "10f7afd0-b3f6-444a-c757-5aa1c7852e1d"
      },
      "outputs": [
        {
          "output_type": "stream",
          "name": "stdout",
          "text": [
            "<class 'pandas.core.frame.DataFrame'>\n",
            "RangeIndex: 1048575 entries, 0 to 1048574\n",
            "Data columns (total 21 columns):\n",
            " #   Column                Non-Null Count    Dtype \n",
            "---  ------                --------------    ----- \n",
            " 0   USMER                 1048575 non-null  int64 \n",
            " 1   MEDICAL_UNIT          1048575 non-null  int64 \n",
            " 2   SEX                   1048575 non-null  int64 \n",
            " 3   PATIENT_TYPE          1048575 non-null  int64 \n",
            " 4   DATE_DIED             1048575 non-null  object\n",
            " 5   INTUBED               1048575 non-null  int64 \n",
            " 6   PNEUMONIA             1048575 non-null  int64 \n",
            " 7   AGE                   1048575 non-null  int64 \n",
            " 8   PREGNANT              1048575 non-null  int64 \n",
            " 9   DIABETES              1048575 non-null  int64 \n",
            " 10  COPD                  1048575 non-null  int64 \n",
            " 11  ASTHMA                1048575 non-null  int64 \n",
            " 12  INMSUPR               1048575 non-null  int64 \n",
            " 13  HIPERTENSION          1048575 non-null  int64 \n",
            " 14  OTHER_DISEASE         1048575 non-null  int64 \n",
            " 15  CARDIOVASCULAR        1048575 non-null  int64 \n",
            " 16  OBESITY               1048575 non-null  int64 \n",
            " 17  RENAL_CHRONIC         1048575 non-null  int64 \n",
            " 18  TOBACCO               1048575 non-null  int64 \n",
            " 19  CLASIFFICATION_FINAL  1048575 non-null  int64 \n",
            " 20  ICU                   1048575 non-null  int64 \n",
            "dtypes: int64(20), object(1)\n",
            "memory usage: 168.0+ MB\n"
          ]
        }
      ],
      "source": [
        "data.info()"
      ]
    },
    {
      "cell_type": "code",
      "execution_count": null,
      "id": "a742603a",
      "metadata": {
        "colab": {
          "base_uri": "https://localhost:8080/"
        },
        "id": "a742603a",
        "outputId": "5e69ad3e-da94-48c7-d808-791393238d76"
      },
      "outputs": [
        {
          "output_type": "stream",
          "name": "stdout",
          "text": [
            "column  0  : \n",
            " 2    662903\n",
            "1    385672\n",
            "Name: USMER, dtype: int64\n",
            "column  1  : \n",
            " 12    602995\n",
            "4     314405\n",
            "6      40584\n",
            "9      38116\n",
            "3      19175\n",
            "8      10399\n",
            "10      7873\n",
            "5       7244\n",
            "11      5577\n",
            "13       996\n",
            "7        891\n",
            "2        169\n",
            "1        151\n",
            "Name: MEDICAL_UNIT, dtype: int64\n",
            "column  2  : \n",
            " 1    525064\n",
            "2    523511\n",
            "Name: SEX, dtype: int64\n",
            "column  3  : \n",
            " 1    848544\n",
            "2    200031\n",
            "Name: PATIENT_TYPE, dtype: int64\n",
            "column  4  : \n",
            " 9999-99-99    971633\n",
            "06/07/2020      1000\n",
            "07/07/2020       996\n",
            "13/07/2020       990\n",
            "16/06/2020       979\n",
            "               ...  \n",
            "24/11/2020         1\n",
            "17/12/2020         1\n",
            "08/12/2020         1\n",
            "16/03/2021         1\n",
            "22/04/2021         1\n",
            "Name: DATE_DIED, Length: 401, dtype: int64\n",
            "column  5  : \n",
            " 97    848544\n",
            "2     159050\n",
            "1      33656\n",
            "99      7325\n",
            "Name: INTUBED, dtype: int64\n",
            "column  6  : \n",
            " 2     892534\n",
            "1     140038\n",
            "99     16003\n",
            "Name: PNEUMONIA, dtype: int64\n",
            "column  7  : \n",
            " 30     27010\n",
            "31     25927\n",
            "28     25313\n",
            "29     25134\n",
            "34     24872\n",
            "       ...  \n",
            "114        2\n",
            "116        2\n",
            "111        1\n",
            "121        1\n",
            "113        1\n",
            "Name: AGE, Length: 121, dtype: int64\n",
            "column  8  : \n",
            " 97    523511\n",
            "2     513179\n",
            "1       8131\n",
            "98      3754\n",
            "Name: PREGNANT, dtype: int64\n",
            "column  9  : \n",
            " 2     920248\n",
            "1     124989\n",
            "98      3338\n",
            "Name: DIABETES, dtype: int64\n",
            "column  10  : \n",
            " 2     1030510\n",
            "1       15062\n",
            "98       3003\n",
            "Name: COPD, dtype: int64\n",
            "column  11  : \n",
            " 2     1014024\n",
            "1       31572\n",
            "98       2979\n",
            "Name: ASTHMA, dtype: int64\n",
            "column  12  : \n",
            " 2     1031001\n",
            "1       14170\n",
            "98       3404\n",
            "Name: INMSUPR, dtype: int64\n",
            "column  13  : \n",
            " 2     882742\n",
            "1     162729\n",
            "98      3104\n",
            "Name: HIPERTENSION, dtype: int64\n",
            "column  14  : \n",
            " 2     1015490\n",
            "1       28040\n",
            "98       5045\n",
            "Name: OTHER_DISEASE, dtype: int64\n",
            "column  15  : \n",
            " 2     1024730\n",
            "1       20769\n",
            "98       3076\n",
            "Name: CARDIOVASCULAR, dtype: int64\n",
            "column  16  : \n",
            " 2     885727\n",
            "1     159816\n",
            "98      3032\n",
            "Name: OBESITY, dtype: int64\n",
            "column  17  : \n",
            " 2     1026665\n",
            "1       18904\n",
            "98       3006\n",
            "Name: RENAL_CHRONIC, dtype: int64\n",
            "column  18  : \n",
            " 2     960979\n",
            "1      84376\n",
            "98      3220\n",
            "Name: TOBACCO, dtype: int64\n",
            "column  19  : \n",
            " 7    499250\n",
            "3    381527\n",
            "6    128133\n",
            "5     26091\n",
            "1      8601\n",
            "4      3122\n",
            "2      1851\n",
            "Name: CLASIFFICATION_FINAL, dtype: int64\n",
            "column  20  : \n",
            " 97    848544\n",
            "2     175685\n",
            "1      16858\n",
            "99      7488\n",
            "Name: ICU, dtype: int64\n"
          ]
        }
      ],
      "source": [
        "for i in range(21):    \n",
        "    u=data.iloc[:,i]\n",
        "    print('column ',i,' : \\n',u.value_counts())"
      ]
    },
    {
      "cell_type": "markdown",
      "id": "q06Zbl07EduW",
      "metadata": {
        "id": "q06Zbl07EduW"
      },
      "source": [
        "understanding data values for each column\n",
        "\n",
        "In general 1 means YES & 2 means NO\n",
        "\n",
        "97,98,99 are nulls and sometimes have meaning"
      ]
    },
    {
      "cell_type": "code",
      "execution_count": null,
      "id": "903e7139",
      "metadata": {
        "colab": {
          "base_uri": "https://localhost:8080/"
        },
        "id": "903e7139",
        "outputId": "6c1afcc7-7658-4405-afde-4efe1f62ae25"
      },
      "outputs": [
        {
          "output_type": "stream",
          "name": "stdout",
          "text": [
            "USMER  : 0\n",
            "MEDICAL_UNIT  : 0\n",
            "SEX  : 0\n",
            "PATIENT_TYPE  : 0\n",
            "DATE_DIED  : 0\n",
            "INTUBED  : 855869\n",
            "PNEUMONIA  : 16003\n",
            "AGE  : 345\n",
            "PREGNANT  : 527265\n",
            "DIABETES  : 3338\n",
            "COPD  : 3003\n",
            "ASTHMA  : 2979\n",
            "INMSUPR  : 3404\n",
            "HIPERTENSION  : 3104\n",
            "OTHER_DISEASE  : 5045\n",
            "CARDIOVASCULAR  : 3076\n",
            "OBESITY  : 3032\n",
            "RENAL_CHRONIC  : 3006\n",
            "TOBACCO  : 3220\n",
            "CLASIFFICATION_FINAL  : 0\n",
            "ICU  : 856032\n"
          ]
        }
      ],
      "source": [
        "for i in range(21):    \n",
        "    u=data.loc[(data.iloc[:,i]==97)|(data.iloc[:,i]==99)|(data.iloc[:,i]==98)]\n",
        "    print(data.columns[i],' :',len(u))"
      ]
    },
    {
      "cell_type": "markdown",
      "id": "hGk--b8wGO7W",
      "metadata": {
        "id": "hGk--b8wGO7W"
      },
      "source": [
        "keep 1 & 2 values for some columns and drop others based on the number above \n",
        "\n",
        "eg.PREGNANT contains many unknown values,it will be treated next."
      ]
    },
    {
      "cell_type": "code",
      "execution_count": null,
      "id": "c7edfb18",
      "metadata": {
        "id": "c7edfb18"
      },
      "outputs": [],
      "source": [
        "lis=[6,9,10,11,12,13,14,15,16,17,18]\n",
        "for i in (lis):    \n",
        "    data=data.loc[(data.iloc[:,i]==1)|(data.iloc[:,i]==2)]\n"
      ]
    },
    {
      "cell_type": "code",
      "execution_count": null,
      "id": "OcNMRp5wzlZq",
      "metadata": {
        "id": "OcNMRp5wzlZq"
      },
      "outputs": [],
      "source": [
        "data.SEX = data.SEX.replace(1,'FEMALE')\n",
        "data.SEX = data.SEX.replace(2,'MALE')\n"
      ]
    },
    {
      "cell_type": "markdown",
      "source": [],
      "metadata": {
        "id": "4v6CWfZxL9JV"
      },
      "id": "4v6CWfZxL9JV"
    },
    {
      "cell_type": "code",
      "execution_count": null,
      "id": "8c02f256",
      "metadata": {
        "colab": {
          "base_uri": "https://localhost:8080/",
          "height": 369
        },
        "id": "8c02f256",
        "outputId": "28b6539e-73b4-4b57-afae-5275e28c8eb0"
      },
      "outputs": [
        {
          "output_type": "stream",
          "name": "stderr",
          "text": [
            "/usr/local/lib/python3.8/dist-packages/seaborn/_decorators.py:36: FutureWarning: Pass the following variable as a keyword arg: x. From version 0.12, the only valid positional argument will be `data`, and passing other arguments without an explicit keyword will result in an error or misinterpretation.\n",
            "  warnings.warn(\n"
          ]
        },
        {
          "output_type": "execute_result",
          "data": {
            "text/plain": [
              "Text(0.5, 1.0, 'PREGNANCIES - SEX')"
            ]
          },
          "metadata": {},
          "execution_count": 10
        },
        {
          "output_type": "display_data",
          "data": {
            "text/plain": [
              "<Figure size 432x288 with 1 Axes>"
            ],
            "image/png": "[encoded data removed]"
          },
          "metadata": {
            "needs_background": "light"
          }
        }
      ],
      "source": [
        "#PREGNANT\n",
        "plt.figure()\n",
        "ax = sns.countplot(data.SEX,  hue = data.PREGNANT)\n",
        "plt.title(\"PREGNANCIES - SEX\",color=\"red\")"
      ]
    },
    {
      "cell_type": "markdown",
      "id": "inL57TkOHZPI",
      "metadata": {
        "id": "inL57TkOHZPI"
      },
      "source": [
        "Since 1& 2 values(blue->yes and orange->NO) \n",
        "\n",
        "Concluded that 97 (GREEN) is alaways for men \n",
        "\n",
        "just for ensurance compare number of all males and number of males with value 97"
      ]
    },
    {
      "cell_type": "code",
      "execution_count": null,
      "id": "U6jaE0BLlzi-",
      "metadata": {
        "colab": {
          "base_uri": "https://localhost:8080/"
        },
        "id": "U6jaE0BLlzi-",
        "outputId": "20577b5b-757c-4525-c2b7-3852c3fadf63"
      },
      "outputs": [
        {
          "output_type": "execute_result",
          "data": {
            "text/plain": [
              "(511936, 21)"
            ]
          },
          "metadata": {},
          "execution_count": 11
        }
      ],
      "source": [
        "u=data[(data[\"SEX\"]=='MALE') & (data[\"PREGNANT\"]==97)]\n",
        "u.shape"
      ]
    },
    {
      "cell_type": "code",
      "execution_count": null,
      "id": "VSdTi8qjl2XU",
      "metadata": {
        "colab": {
          "base_uri": "https://localhost:8080/"
        },
        "id": "VSdTi8qjl2XU",
        "outputId": "23e6926c-9e2b-4fa5-8d57-c3fc663e9ecd"
      },
      "outputs": [
        {
          "output_type": "execute_result",
          "data": {
            "text/plain": [
              "(511936, 21)"
            ]
          },
          "metadata": {},
          "execution_count": 12
        }
      ],
      "source": [
        "u2=data[(data[\"SEX\"]=='MALE')]\n",
        "u2.shape"
      ]
    },
    {
      "cell_type": "code",
      "execution_count": null,
      "id": "kfc2XnleHSNV",
      "metadata": {
        "id": "kfc2XnleHSNV"
      },
      "outputs": [],
      "source": [
        "# Converting male pregnancy from 97 into 2\n",
        "data.PREGNANT = data.PREGNANT.replace(97,2)\n",
        "#keeping values 1&2 and Droping others\n",
        "data = data[(data.PREGNANT == 1) | (data.PREGNANT == 2)]"
      ]
    },
    {
      "cell_type": "markdown",
      "id": "YpKq76swH1Ot",
      "metadata": {
        "id": "YpKq76swH1Ot"
      },
      "source": [
        "Create 2 new columns\n",
        "\n",
        "1-DEATH whether die or not\n",
        "\n",
        "2-CLASIFFICATION whether classified with covid or not  \n"
      ]
    },
    {
      "cell_type": "code",
      "execution_count": null,
      "id": "90ddb91e",
      "metadata": {
        "id": "90ddb91e"
      },
      "outputs": [],
      "source": [
        "data[\"DEATH\"] = ['alive' if x==\"9999-99-99\" else 'Dead' for x in data.DATE_DIED]\n",
        "data[\"CLASIFFICATION\"] = ['Positive' if x<=3 else 'Negative' for x in data.CLASIFFICATION_FINAL]"
      ]
    },
    {
      "cell_type": "markdown",
      "id": "5d7LMh2FI5EE",
      "metadata": {
        "id": "5d7LMh2FI5EE"
      },
      "source": [
        "converting (9999-99-99) into a specific known value to be able to deal with data using datetime\n",
        "\n"
      ]
    },
    {
      "cell_type": "code",
      "execution_count": null,
      "id": "d20caece",
      "metadata": {
        "id": "d20caece"
      },
      "outputs": [],
      "source": [
        "data[\"DATE_DIED\"]=data[\"DATE_DIED\"].replace(to_replace='9999-99-99',value='01/01/1990')"
      ]
    },
    {
      "cell_type": "code",
      "execution_count": null,
      "id": "5770e659",
      "metadata": {
        "id": "5770e659"
      },
      "outputs": [],
      "source": [
        "data[\"DATE_DIED\"] = pd.to_datetime(data[\"DATE_DIED\"])\n",
        "\n",
        "data[\"Died_year\"] = data[\"DATE_DIED\"].dt.year\n",
        "data[\"Died_month\"] = data[\"DATE_DIED\"].dt.month\n",
        "data[\"Died_day\"] = data[\"DATE_DIED\"].dt.day"
      ]
    },
    {
      "cell_type": "code",
      "execution_count": null,
      "id": "c9248e90",
      "metadata": {
        "colab": {
          "base_uri": "https://localhost:8080/"
        },
        "id": "c9248e90",
        "outputId": "1c66803b-57e2-48cc-e11d-3a4cdd07f476"
      },
      "outputs": [
        {
          "output_type": "execute_result",
          "data": {
            "text/plain": [
              "1990    947320\n",
              "2020     74345\n",
              "2021       312\n",
              "Name: Died_year, dtype: int64"
            ]
          },
          "metadata": {},
          "execution_count": 17
        }
      ],
      "source": [
        "data[\"Died_year\"].value_counts()"
      ]
    },
    {
      "cell_type": "markdown",
      "id": "EEXEmYe4JQmI",
      "metadata": {
        "id": "EEXEmYe4JQmI"
      },
      "source": [
        "Grouping people based on their age"
      ]
    },
    {
      "cell_type": "code",
      "execution_count": null,
      "id": "s6JyGAAEmJHv",
      "metadata": {
        "id": "s6JyGAAEmJHv"
      },
      "outputs": [],
      "source": [
        "def AGE(x):\n",
        "    'divide AGE into 5 categories'\n",
        "    if x <= 2:\n",
        "        return 'Babies'\n",
        "    elif 3 <= x <= 16:\n",
        "        return 'Children'\n",
        "    elif 17 <= x <= 30:\n",
        "        return 'Young-Adults'\n",
        "    elif 31<= x <= 45:\n",
        "        return 'Middle-Aged-Adults'\n",
        "    else:\n",
        "        return 'Old-Adults'\n",
        "\n",
        "data['AGE_grouped'] = data.AGE.apply(lambda x: AGE(x))"
      ]
    },
    {
      "cell_type": "markdown",
      "id": "BCMVSCnAJbMw",
      "metadata": {
        "id": "BCMVSCnAJbMw"
      },
      "source": [
        "Droping unnecceary columns\n",
        "\n",
        "1.   'DATE_DIED'&'CLASIFFICATION_FINAL'\n",
        "     \n",
        "      already took the needed information\n",
        "2.   'INTUBED'&'ICU'\n",
        "      \n",
        "      contain too much nulls\n"
      ]
    },
    {
      "cell_type": "code",
      "execution_count": null,
      "id": "ZgkwtMf7mv4d",
      "metadata": {
        "id": "ZgkwtMf7mv4d"
      },
      "outputs": [],
      "source": [
        "data.drop(['DATE_DIED','CLASIFFICATION_FINAL','INTUBED','ICU'],axis=1,inplace=True)"
      ]
    },
    {
      "cell_type": "code",
      "execution_count": null,
      "id": "7smPZe_hmNK6",
      "metadata": {
        "id": "7smPZe_hmNK6"
      },
      "outputs": [],
      "source": [
        "data.to_csv('preprocessed.csv')"
      ]
    },
    {
      "cell_type": "markdown",
      "id": "ojqg4FcPKImm",
      "metadata": {
        "id": "ojqg4FcPKImm"
      },
      "source": []
    }
  ],
  "metadata": {
    "colab": {
      "provenance": []
    },
    "kernelspec": {
      "display_name": "Python 3 (ipykernel)",
      "language": "python",
      "name": "python3"
    },
    "language_info": {
      "codemirror_mode": {
        "name": "ipython",
        "version": 3
      },
      "file_extension": ".py",
      "mimetype": "text/x-python",
      "name": "python",
      "nbconvert_exporter": "python",
      "pygments_lexer": "ipython3",
      "version": "3.9.7"
    }
  },
  "nbformat": 4,
  "nbformat_minor": 5
}